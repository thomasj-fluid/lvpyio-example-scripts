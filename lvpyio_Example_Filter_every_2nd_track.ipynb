{
 "cells": [
  {
   "cell_type": "markdown",
   "id": "f4d31255",
   "metadata": {},
   "source": [
    "# Filter out every 2nd track\n",
    "\n",
    "Within this notebook it shall be shown how one can filter out every 2nd trajectory from a particle set created by DaVis. In order to do so, the Python library **lvpyio** is used to import and export back the trajectory data."
   ]
  },
  {
   "cell_type": "code",
   "execution_count": 1,
   "id": "1a15829a",
   "metadata": {},
   "outputs": [],
   "source": [
    "# Import necessary packages\n",
    "import numpy as np\n",
    "import lvpyio as lv"
   ]
  },
  {
   "cell_type": "code",
   "execution_count": 2,
   "id": "9d752c09",
   "metadata": {},
   "outputs": [],
   "source": [
    "# Read DaVis particle set\n",
    "tracks_lv = lv.read_particles('data\\\\Tracks_Cylinder_Wake')\n",
    "\n",
    "# initialize new list, which will contain the tracks with the added scalars\n",
    "tracks_export = list()\n",
    "\n",
    "for ii in range(0,tracks_lv.track_count,2): # loop over all trajectories while skipping every second track\n",
    "    track_temp = tracks_lv.single_track(ii) # get trajectory information\n",
    "    \n",
    "    tracks_export.append(track_temp) # add track to export list\n",
    "    "
   ]
  },
  {
   "cell_type": "code",
   "execution_count": 3,
   "id": "bd8df06b",
   "metadata": {},
   "outputs": [],
   "source": [
    "# Write the new particle set with reduced number of tracks\n",
    "lv.write_particles(dict(times=tracks_lv.times(), tracks=tracks_export, \n",
    "                        scales = tracks_lv.scales, \n",
    "                        attributes = tracks_lv.attributes, bounds = tracks_lv.bounds), \"data\\\\Tracks_Cylinder_Wake_filtered\")"
   ]
  }
 ],
 "metadata": {
  "kernelspec": {
   "display_name": "Python 3 (ipykernel)",
   "language": "python",
   "name": "python3"
  },
  "language_info": {
   "codemirror_mode": {
    "name": "ipython",
    "version": 3
   },
   "file_extension": ".py",
   "mimetype": "text/x-python",
   "name": "python",
   "nbconvert_exporter": "python",
   "pygments_lexer": "ipython3",
   "version": "3.8.5"
  }
 },
 "nbformat": 4,
 "nbformat_minor": 5
}
