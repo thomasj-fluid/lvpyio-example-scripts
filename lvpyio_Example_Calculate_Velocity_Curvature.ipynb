{
 "cells": [
  {
   "cell_type": "markdown",
   "id": "97212236",
   "metadata": {},
   "source": [
    "# Calculate velocity and curvature\n",
    "\n",
    "Within this notebook it shall be shown how one can calculate velocity and curvatures values from a particle set created by DaVis. In order to do so, the Python library **lvpyio** is used to import the trajectory data."
   ]
  },
  {
   "cell_type": "code",
   "execution_count": 1,
   "id": "3051d2cb",
   "metadata": {},
   "outputs": [],
   "source": [
    "# Import necessary packages\n",
    "import numpy as np\n",
    "import lvpyio as lv\n",
    "from csaps import CubicSmoothingSpline"
   ]
  },
  {
   "cell_type": "markdown",
   "id": "dbea0410",
   "metadata": {},
   "source": [
    "## Define function for velocity and curvature calculation"
   ]
  },
  {
   "cell_type": "code",
   "execution_count": 2,
   "id": "7e072fb6",
   "metadata": {},
   "outputs": [],
   "source": [
    "# This is a function, which fits a single trajectory with a smoothing cubic spline. \n",
    "# Based on this spline, the first and second derivatives of the trajectories can be calculated.\n",
    "# The first derivated is used to calculate the particle's velocity.\n",
    "# Additionally the local curvature of the trajectory is calculated using both the first and second derivative.\n",
    "\n",
    "def f_calc_scalars(track,dt,scaling, smooth_val):\n",
    "\n",
    "    # get coordinates and rescale to meters\n",
    "    x_raw = (track.particles[:]['x']*scaling.x.slope+scaling.x.offset)/1000\n",
    "    y_raw = (track.particles[:]['y']*scaling.y.slope+scaling.y.offset)/1000\n",
    "    z_raw = (track.particles[:]['z']*scaling.z.slope+scaling.z.offset)/1000\n",
    "    \n",
    "    # get track length\n",
    "    length_track = np.size(x_raw)\n",
    "    \n",
    "    # Create arbitrary time vector. Absolute values not necessary here, only the spacing with dt\n",
    "    t_raw=np.linspace(-length_track/2,length_track/2,length_track)*dt # create time vector for filter window\n",
    "    \n",
    "    # Fit x-data with Smoothing spline\n",
    "    s = CubicSmoothingSpline(t_raw, x_raw, smooth=smooth_val, normalizedsmooth=True).spline\n",
    "    # Calculate derivatives\n",
    "    dx1 = s.derivative(nu=1)\n",
    "    dx2 = s.derivative(nu=2)\n",
    "    # Save velocity\n",
    "    U = dx1(t_raw)\n",
    "    \n",
    "    # Fit y-data with Smoothing spline\n",
    "    s = CubicSmoothingSpline(t_raw, y_raw, smooth=smooth_val, normalizedsmooth=True).spline\n",
    "    # Calculate derivatives\n",
    "    dy1 = s.derivative(nu=1)\n",
    "    dy2 = s.derivative(nu=2)\n",
    "    # Save velocity\n",
    "    V = dy1(t_raw)\n",
    "    \n",
    "    # Fit z-data with Smoothing spline\n",
    "    s = CubicSmoothingSpline(t_raw, z_raw, smooth=smooth_val, normalizedsmooth=True).spline\n",
    "    # Calculate derivatives\n",
    "    dz1 = s.derivative(nu=1)\n",
    "    dz2 = s.derivative(nu=2)\n",
    "    # Save velocity\n",
    "    W = dz1(t_raw)\n",
    "    \n",
    "    # Build vectors of derivatives    \n",
    "    d1vec = np.c_[dx1(t_raw),dy1(t_raw)]\n",
    "    d1vec = np.c_[d1vec, dz1(t_raw)]\n",
    "\n",
    "    d2vec = np.c_[dx2(t_raw),dy2(t_raw)]\n",
    "    d2vec = np.c_[d2vec, dz2(t_raw)]\n",
    "    \n",
    "    # Calculate curvature (see equation below curvature = kappa)\n",
    "    curvature = np.linalg.norm(np.cross(d1vec[None, :],d2vec), axis=2) / np.linalg.norm(d1vec,axis=1)**3\n",
    "    \n",
    "    return curvature, U, V, W"
   ]
  },
  {
   "cell_type": "markdown",
   "id": "e6656e26",
   "metadata": {},
   "source": [
    "For the definition of curvature $\\kappa$ see https://en.wikipedia.org/wiki/Curvature and mentioned references:\n",
    "<br>\n",
    "<br>\n",
    "<div align=\"center\"><b> $\\kappa = \\dfrac{||\\dot{x} \\times \\ddot{x}||}{ ||\\dot{x}||^3}$ </b></div>\n"
   ]
  },
  {
   "cell_type": "markdown",
   "id": "4852494c",
   "metadata": {},
   "source": [
    "## Add new scalars to the set"
   ]
  },
  {
   "cell_type": "markdown",
   "id": "e41f7216",
   "metadata": {},
   "source": [
    "Now, the newly calculated properties can be attached to the particle set."
   ]
  },
  {
   "cell_type": "code",
   "execution_count": 3,
   "id": "0ab155ef",
   "metadata": {},
   "outputs": [
    {
     "name": "stderr",
     "output_type": "stream",
     "text": [
      "C:\\Users\\tjanke\\AppData\\Local\\Temp\\ipykernel_14420\\663148827.py:51: RuntimeWarning: invalid value encountered in divide\n",
      "  curvature = np.linalg.norm(np.cross(d1vec[None, :],d2vec), axis=2) / np.linalg.norm(d1vec,axis=1)**3\n"
     ]
    }
   ],
   "source": [
    "# Read DaVis particle set\n",
    "tracks_lv = lv.read_particles('data\\\\Tracks_Cylinder_Wake')\n",
    "\n",
    "dt = tracks_lv.times()[1]-tracks_lv.times()[0] # retrieve dt of measurements\n",
    "\n",
    "# initialize new list, which will contain the tracks with the added scalars\n",
    "tracks_export = list()\n",
    "\n",
    "# read scaling of positional data\n",
    "scaling = tracks_lv.scales\n",
    "\n",
    "# define scales of new scalars\n",
    "scalar_scales = {\"Curvature\": lv.Scale(1, 0, \"1/m\", \"local curvature\"),\"U\": lv.Scale(1, 0, \"m/s\", \"Spline velocity u\"),\"V\": lv.Scale(1, 0, \"m/s\", \"Spline velocity v\"),\"W\": lv.Scale(1, 0, \"m/s\", \"Spline velocity w\")}\n",
    "\n",
    "for ii in range(tracks_lv.track_count): # loop over all trajectories\n",
    "\n",
    "    track_temp = tracks_lv.single_track(ii) # get trajectory information\n",
    "    curvature, U, V, W = f_calc_scalars(track_temp,dt,scaling, 0.85) # calculate new scalars\n",
    "    track_temp.scalars = {\"Curvature\": curvature[0,:],\"U\": U,\"V\": V,\"W\": W} # add scalars to track object\n",
    "    \n",
    "    tracks_export.append(track_temp) # add track to export list\n",
    "    "
   ]
  },
  {
   "cell_type": "markdown",
   "id": "a1b50cb2",
   "metadata": {},
   "source": [
    "## Write set"
   ]
  },
  {
   "cell_type": "code",
   "execution_count": 4,
   "id": "c5e8509c",
   "metadata": {},
   "outputs": [],
   "source": [
    "# Write new particle set with same properties as the original one.\n",
    "# But now, the new scalars have been added to each trajectory\n",
    "lv.write_particles(dict(times=tracks_lv.times(), tracks=tracks_export, \n",
    "                        scales = tracks_lv.scales, scalar_scales = scalar_scales, \n",
    "                        attributes = tracks_lv.attributes, bounds = tracks_lv.bounds), \"data\\\\tracks_with_scalar\")"
   ]
  }
 ],
 "metadata": {
  "kernelspec": {
   "display_name": "Python 3 (ipykernel)",
   "language": "python",
   "name": "python3"
  },
  "language_info": {
   "codemirror_mode": {
    "name": "ipython",
    "version": 3
   },
   "file_extension": ".py",
   "mimetype": "text/x-python",
   "name": "python",
   "nbconvert_exporter": "python",
   "pygments_lexer": "ipython3",
   "version": "3.8.5"
  }
 },
 "nbformat": 4,
 "nbformat_minor": 5
}
